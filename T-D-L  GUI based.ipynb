{
 "cells": [
  {
   "cell_type": "code",
   "execution_count": 1,
   "id": "eb35804d",
   "metadata": {},
   "outputs": [
    {
     "name": "stdout",
     "output_type": "stream",
     "text": [
      "Requirement already satisfied: simple_colors in c:\\users\\hp\\appdata\\roaming\\python\\python311\\site-packages (0.1.5)\n",
      "Note: you may need to restart the kernel to use updated packages.\n"
     ]
    }
   ],
   "source": [
    "pip install simple_colors"
   ]
  },
  {
   "cell_type": "code",
   "execution_count": 2,
   "id": "8e8ead72",
   "metadata": {},
   "outputs": [
    {
     "name": "stdout",
     "output_type": "stream",
     "text": [
      "Requirement already satisfied: tk in c:\\users\\hp\\anaconda3\\lib\\site-packages (0.1.0)\n",
      "Note: you may need to restart the kernel to use updated packages.\n"
     ]
    }
   ],
   "source": [
    "pip install tk"
   ]
  },
  {
   "cell_type": "code",
   "execution_count": 2,
   "id": "b43b89b5",
   "metadata": {},
   "outputs": [],
   "source": [
    "import tkinter as tk\n",
    "from tkinter import messagebox\n",
    "import simple_colors as color\n",
    "\n",
    "tasks = []\n",
    "\n",
    "def add_task():\n",
    "    task = task_entry.get()\n",
    "    due_date = due_date_entry.get()\n",
    "    priority = int(priority_entry.get())\n",
    "    \n",
    "    tasks.append({\"task\": task, \"due_date\": due_date, \"priority\": priority, \"completed\": False})\n",
    "    update_task_list()\n",
    "    messagebox.showinfo(\"Task Added\", f\"Task '{task}' added to the to-do list.\")\n",
    "\n",
    "def remove_task():\n",
    "    selected_task_index = task_listbox.curselection()\n",
    "    \n",
    "    if selected_task_index:\n",
    "        task_index = selected_task_index[0]\n",
    "        removed_task = tasks.pop(task_index)\n",
    "        update_task_list()\n",
    "        messagebox.showinfo(\"Task Removed\", f\"Task '{removed_task['task']}' removed from the to-do list.\")\n",
    "    else:\n",
    "        messagebox.showerror(\"No Task Selected\", \"Please select a task to remove.\")\n",
    "\n",
    "def mark_task_completed():\n",
    "    selected_task_index = task_listbox.curselection()\n",
    "    \n",
    "    if selected_task_index:\n",
    "        task_index = selected_task_index[0]\n",
    "        tasks[task_index][\"completed\"] = True\n",
    "        update_task_list()\n",
    "        messagebox.showinfo(\"Task Completed\", \"Task marked as completed.\")\n",
    "    else:\n",
    "        messagebox.showerror(\"No Task Selected\", \"Please select a task to mark as completed.\")\n",
    "\n",
    "def update_task_list():\n",
    "    task_listbox.delete(0, tk.END)\n",
    "    \n",
    "    for task_info in tasks:\n",
    "        task = task_info['task']\n",
    "        due_date = task_info['due_date']\n",
    "        priority = task_info['priority']\n",
    "        completed = task_info['completed']\n",
    "        status = \"Completed\" if completed else \"Pending\"\n",
    "        task_listbox.insert(tk.END, f\"{task} (Priority: {priority}, Due: {due_date}, Status: {status})\")\n",
    "\n",
    "# GUI setup\n",
    "root = tk.Tk()\n",
    "root.title(\"To-Do List Application\")\n",
    "\n",
    "# Create widgets for the GUI\n",
    "heading_label = tk.Label(root, text=\"T-D-L (To-Do List)\", font=(\"Helvetica\", 16, \"bold\"))\n",
    "task_entry_label = tk.Label(root, text=\"Task:\")\n",
    "task_entry = tk.Entry(root)\n",
    "due_date_label = tk.Label(root, text=\"Due Date:\")\n",
    "due_date_entry = tk.Entry(root)\n",
    "priority_label = tk.Label(root, text=\"Priority (1-5):\")\n",
    "priority_entry = tk.Entry(root)\n",
    "add_button = tk.Button(root, text=\"Add Task\", command=add_task)\n",
    "remove_button = tk.Button(root, text=\"Remove Task\", command=remove_task)\n",
    "mark_completed_button = tk.Button(root, text=\"Mark Completed\", command=mark_task_completed)\n",
    "task_listbox = tk.Listbox(root)\n",
    "\n",
    "# Grid layout for the widgets\n",
    "heading_label.grid(row=0, column=0, columnspan=2, pady=10)\n",
    "task_entry_label.grid(row=1, column=0, sticky=\"w\")\n",
    "task_entry.grid(row=1, column=1, padx=10, pady=5)\n",
    "due_date_label.grid(row=2, column=0, sticky=\"w\")\n",
    "due_date_entry.grid(row=2, column=1, padx=10, pady=5)\n",
    "priority_label.grid(row=3, column=0, sticky=\"w\")\n",
    "priority_entry.grid(row=3, column=1, padx=10, pady=5)\n",
    "add_button.grid(row=4, column=0, columnspan=2, pady=10)\n",
    "remove_button.grid(row=5, column=0, columnspan=2, pady=5)\n",
    "mark_completed_button.grid(row=6, column=0, columnspan=2, pady=5)\n",
    "task_listbox.grid(row=7, column=0, columnspan=2, padx=10, pady=10)\n",
    "\n",
    "root.mainloop()\n"
   ]
  },
  {
   "cell_type": "code",
   "execution_count": null,
   "id": "6bf68cbe",
   "metadata": {},
   "outputs": [],
   "source": []
  },
  {
   "cell_type": "code",
   "execution_count": null,
   "id": "1cffbacf",
   "metadata": {},
   "outputs": [],
   "source": []
  }
 ],
 "metadata": {
  "kernelspec": {
   "display_name": "Python 3 (ipykernel)",
   "language": "python",
   "name": "python3"
  },
  "language_info": {
   "codemirror_mode": {
    "name": "ipython",
    "version": 3
   },
   "file_extension": ".py",
   "mimetype": "text/x-python",
   "name": "python",
   "nbconvert_exporter": "python",
   "pygments_lexer": "ipython3",
   "version": "3.11.3"
  }
 },
 "nbformat": 4,
 "nbformat_minor": 5
}
